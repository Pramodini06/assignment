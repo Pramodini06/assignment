{
  "nbformat": 4,
  "nbformat_minor": 0,
  "metadata": {
    "colab": {
      "provenance": [],
      "authorship_tag": "ABX9TyNM+B5UfkRqA5RLYgx3PS/v",
      "include_colab_link": true
    },
    "kernelspec": {
      "name": "python3",
      "display_name": "Python 3"
    },
    "language_info": {
      "name": "python"
    }
  },
  "cells": [
    {
      "cell_type": "markdown",
      "metadata": {
        "id": "view-in-github",
        "colab_type": "text"
      },
      "source": [
        "<a href=\"https://colab.research.google.com/github/Pramodini06/assignment/blob/main/Assignment%203.ipynb\" target=\"_parent\"><img src=\"https://colab.research.google.com/assets/colab-badge.svg\" alt=\"Open In Colab\"/></a>"
      ]
    },
    {
      "cell_type": "code",
      "execution_count": 1,
      "metadata": {
        "colab": {
          "base_uri": "https://localhost:8080/"
        },
        "id": "YLaTVeVxDovJ",
        "outputId": "a99762cd-9d00-4502-f3fa-561e60134121"
      },
      "outputs": [
        {
          "output_type": "stream",
          "name": "stdout",
          "text": [
            "Probability of heads: 0.6\n",
            "Probability of tails: 0.4\n",
            "Probability of disease given positive test: 0.16666666666666669\n"
          ]
        }
      ],
      "source": [
        "heads = 60\n",
        "tails = 40\n",
        "total_flips = heads + tails\n",
        "prob_heads = heads / total_flips\n",
        "prob_tails = tails / total_flips\n",
        "print(f\"Probability of heads: {prob_heads}\")\n",
        "print(f\"Probability of tails: {prob_tails}\")\n",
        "\n",
        "p_disease = 0.01\n",
        "p_no_disease = 1 - p_disease\n",
        "p_pos_given_disease = 0.99\n",
        "p_pos_given_no_disease = 0.05\n",
        "p_positive = (p_pos_given_disease * p_disease) + (p_pos_given_no_disease * p_no_disease)\n",
        "p_disease_given_positive = (p_pos_given_disease * p_disease) / p_positive\n",
        "print(f\"Probability of disease given positive test: {p_disease_given_positive}\")"
      ]
    },
    {
      "cell_type": "code",
      "source": [
        "from sympy import symbols, diff\n",
        "\n",
        "x = symbols('x')\n",
        "f_x = 3*x**2 - 2*x - 5\n",
        "der_x = diff(f_x, x)\n",
        "\n",
        "x_point = 2\n",
        "der_at_point = der_x.subs(x, x_point)\n",
        "\n",
        "print(f\"Function: f(x) = {f_x}\")\n",
        "print(f\"Derivative: f'(x) = {der_x}\")\n",
        "print(f\"Derivative at x = {x_point}: {der_at_point}\")"
      ],
      "metadata": {
        "colab": {
          "base_uri": "https://localhost:8080/"
        },
        "id": "s5bA5shIDuD2",
        "outputId": "a7872236-0579-49af-f121-6daf07b52374"
      },
      "execution_count": 2,
      "outputs": [
        {
          "output_type": "stream",
          "name": "stdout",
          "text": [
            "Function: f(x) = 3*x**2 - 2*x - 5\n",
            "Derivative: f'(x) = 6*x - 2\n",
            "Derivative at x = 2: 10\n"
          ]
        }
      ]
    }
  ]
}