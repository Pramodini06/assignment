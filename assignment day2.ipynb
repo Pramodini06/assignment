{
  "nbformat": 4,
  "nbformat_minor": 0,
  "metadata": {
    "colab": {
      "provenance": [],
      "authorship_tag": "ABX9TyMrJOgOFICevPd8O1JK70kQ",
      "include_colab_link": true
    },
    "kernelspec": {
      "name": "python3",
      "display_name": "Python 3"
    },
    "language_info": {
      "name": "python"
    }
  },
  "cells": [
    {
      "cell_type": "markdown",
      "metadata": {
        "id": "view-in-github",
        "colab_type": "text"
      },
      "source": [
        "<a href=\"https://colab.research.google.com/github/Pramodini06/assignment/blob/main/assignment%20day2.ipynb\" target=\"_parent\"><img src=\"https://colab.research.google.com/assets/colab-badge.svg\" alt=\"Open In Colab\"/></a>"
      ]
    },
    {
      "cell_type": "code",
      "execution_count": 1,
      "metadata": {
        "colab": {
          "base_uri": "https://localhost:8080/"
        },
        "id": "kNUi7eUuKl6F",
        "outputId": "e401177e-beed-41e8-aab7-b9e93c83a04d"
      },
      "outputs": [
        {
          "output_type": "stream",
          "name": "stdout",
          "text": [
            "Matrix A:\n",
            " [[1 2]\n",
            " [3 4]]\n",
            "Matrix B:\n",
            " [[5 6]\n",
            " [7 8]]\n",
            "A x B =\n",
            " [[19 22]\n",
            " [43 50]]\n"
          ]
        }
      ],
      "source": [
        "import numpy as np\n",
        "\n",
        "def matrix_multiply(A, B):\n",
        "    \"\"\"\n",
        "    Perform matrix multiplication using numpy.\n",
        "\n",
        "    Args:\n",
        "        A (np.ndarray): First matrix of shape (m, n)\n",
        "        B (np.ndarray): Second matrix of shape (n, p)\n",
        "\n",
        "    Returns:\n",
        "        np.ndarray: Resulting matrix of shape (m, p)\n",
        "    \"\"\"\n",
        "    # Check if shapes are compatible\n",
        "    if A.shape[1] != B.shape[0]:\n",
        "        raise ValueError(\"Incompatible dimensions: A's columns must match B's rows\")\n",
        "\n",
        "    # Perform matrix multiplication\n",
        "    result = np.dot(A, B)\n",
        "    return result\n",
        " # Define two matrices\n",
        "A = np.array([[1, 2],\n",
        "              [3, 4]])\n",
        "\n",
        "B = np.array([[5, 6],\n",
        "              [7, 8]])\n",
        "\n",
        "# Call the function\n",
        "C = matrix_multiply(A, B)\n",
        "\n",
        "print(\"Matrix A:\\n\", A)\n",
        "print(\"Matrix B:\\n\", B)\n",
        "print(\"A x B =\\n\", C)\n"
      ]
    }
  ]
}