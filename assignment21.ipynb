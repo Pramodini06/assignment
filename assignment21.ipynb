{
  "nbformat": 4,
  "nbformat_minor": 0,
  "metadata": {
    "colab": {
      "provenance": [],
      "authorship_tag": "ABX9TyPDCXZExa+nuCk0OeMC+dps",
      "include_colab_link": true
    },
    "kernelspec": {
      "name": "python3",
      "display_name": "Python 3"
    },
    "language_info": {
      "name": "python"
    }
  },
  "cells": [
    {
      "cell_type": "markdown",
      "metadata": {
        "id": "view-in-github",
        "colab_type": "text"
      },
      "source": [
        "<a href=\"https://colab.research.google.com/github/Pramodini06/assignment/blob/main/assignment21.ipynb\" target=\"_parent\"><img src=\"https://colab.research.google.com/assets/colab-badge.svg\" alt=\"Open In Colab\"/></a>"
      ]
    },
    {
      "cell_type": "code",
      "execution_count": 1,
      "metadata": {
        "id": "C6m846BVM_Xc"
      },
      "outputs": [],
      "source": [
        "data = [5, 10, 15, 20, 25]"
      ]
    },
    {
      "cell_type": "code",
      "source": [
        "def min_max_scale(data):\n",
        "    min_val = min(data)\n",
        "    max_val = max(data)\n",
        "    return [(x - min_val) / (max_val - min_val) for x in data]\n",
        "\n",
        "scaled_data = min_max_scale(data)\n",
        "print(\"Original Data:\", data)\n",
        "print(\"Min-Max Scaled Data:\", scaled_data)\n"
      ],
      "metadata": {
        "colab": {
          "base_uri": "https://localhost:8080/"
        },
        "id": "Kc-GD42rNYG8",
        "outputId": "bb148917-9ce1-4b7f-a4a0-d04a421d2f75"
      },
      "execution_count": 2,
      "outputs": [
        {
          "output_type": "stream",
          "name": "stdout",
          "text": [
            "Original Data: [5, 10, 15, 20, 25]\n",
            "Min-Max Scaled Data: [0.0, 0.25, 0.5, 0.75, 1.0]\n"
          ]
        }
      ]
    },
    {
      "cell_type": "code",
      "source": [
        "def standardize(data):\n",
        "    mean = sum(data) / len(data)\n",
        "    std = (sum([(x - mean) ** 2 for x in data]) / len(data)) ** 0.5\n",
        "    return [(x - mean) / std for x in data]\n",
        "\n",
        "standardized_data = standardize(data)\n",
        "print(\"Standardized Data:\", standardized_data)"
      ],
      "metadata": {
        "colab": {
          "base_uri": "https://localhost:8080/"
        },
        "id": "tOSzYxuaNin8",
        "outputId": "b19f4c18-9d4d-4489-ee9d-3ea0ba9e2ba8"
      },
      "execution_count": 3,
      "outputs": [
        {
          "output_type": "stream",
          "name": "stdout",
          "text": [
            "Standardized Data: [-1.414213562373095, -0.7071067811865475, 0.0, 0.7071067811865475, 1.414213562373095]\n"
          ]
        }
      ]
    },
    {
      "cell_type": "code",
      "source": [
        "import numpy as np\n",
        "\n",
        "# Function to perform matrix multiplication\n",
        "def matrix_multiply(A, B):\n",
        "    return np.dot(A, B)\n",
        "\n",
        "# Example matrices\n",
        "A = np.array([[2, 2],\n",
        "              [3, 3]])\n",
        "B = np.array([[1, 5],\n",
        "              [7, 8]])\n",
        "\n",
        "# Perform multiplication\n",
        "result = matrix_multiply(A, B)\n",
        "print(\"Matrix A:\\n\", A)\n",
        "print(\"Matrix B:\\n\", B)\n",
        "print(\"Matrix Multiplication Result:\\n\", result)\n"
      ],
      "metadata": {
        "colab": {
          "base_uri": "https://localhost:8080/"
        },
        "id": "tzgaDJjpNuVI",
        "outputId": "645c1e98-394f-47b3-ac5e-c5ae06474fd1"
      },
      "execution_count": 4,
      "outputs": [
        {
          "output_type": "stream",
          "name": "stdout",
          "text": [
            "Matrix A:\n",
            " [[2 2]\n",
            " [3 3]]\n",
            "Matrix B:\n",
            " [[1 5]\n",
            " [7 8]]\n",
            "Matrix Multiplication Result:\n",
            " [[16 26]\n",
            " [24 39]]\n"
          ]
        }
      ]
    }
  ]
}